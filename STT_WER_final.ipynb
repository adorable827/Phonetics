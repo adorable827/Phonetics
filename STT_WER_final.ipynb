{
  "nbformat": 4,
  "nbformat_minor": 0,
  "metadata": {
    "colab": {
      "provenance": [],
      "include_colab_link": true
    },
    "kernelspec": {
      "name": "python3",
      "display_name": "Python 3"
    },
    "language_info": {
      "name": "python"
    }
  },
  "cells": [
    {
      "cell_type": "markdown",
      "metadata": {
        "id": "view-in-github",
        "colab_type": "text"
      },
      "source": [
        "<a href=\"https://colab.research.google.com/github/adorable827/Phonetics/blob/main/STT_WER_final.ipynb\" target=\"_parent\"><img src=\"https://colab.research.google.com/assets/colab-badge.svg\" alt=\"Open In Colab\"/></a>"
      ]
    },
    {
      "cell_type": "code",
      "source": [
        "#subj1_sent_rep1_compressed\n",
        "\n",
        "!pip install python-Levenshtein\n",
        "import Levenshtein\n",
        "\n",
        "def calculate_wer(reference, hypothesis):\n",
        "    reference_words = reference.split()\n",
        "    hypothesis_words = hypothesis.split()\n",
        "\n",
        "    # Compute Levenshtein distance between the reference and hypothesis\n",
        "    distance = Levenshtein.distance(reference_words, hypothesis_words)\n",
        "\n",
        "    # Calculate Word Error Rate (WER)\n",
        "    wer = distance / len(reference_words)\n",
        "    return wer\n",
        "\n",
        "# Example usage\n",
        "reference_text0 = \"finally she administered ether\"\n",
        "hypothesis_text0 = \"finally she administered ether\"\n",
        "wer1 = calculate_wer(reference_text0, hypothesis_text0)\n",
        "print(f\"Word Error Rate (WER): {wer1}\")"
      ],
      "metadata": {
        "colab": {
          "base_uri": "https://localhost:8080/"
        },
        "id": "ql57aIm6iNbE",
        "outputId": "f5ef43a0-9d98-425d-e84c-2c877bf71912"
      },
      "execution_count": 1,
      "outputs": [
        {
          "output_type": "stream",
          "name": "stdout",
          "text": [
            "Collecting python-Levenshtein\n",
            "  Downloading python_Levenshtein-0.26.1-py3-none-any.whl.metadata (3.7 kB)\n",
            "Collecting Levenshtein==0.26.1 (from python-Levenshtein)\n",
            "  Downloading levenshtein-0.26.1-cp310-cp310-manylinux_2_17_x86_64.manylinux2014_x86_64.whl.metadata (3.2 kB)\n",
            "Collecting rapidfuzz<4.0.0,>=3.9.0 (from Levenshtein==0.26.1->python-Levenshtein)\n",
            "  Downloading rapidfuzz-3.10.1-cp310-cp310-manylinux_2_17_x86_64.manylinux2014_x86_64.whl.metadata (11 kB)\n",
            "Downloading python_Levenshtein-0.26.1-py3-none-any.whl (9.4 kB)\n",
            "Downloading levenshtein-0.26.1-cp310-cp310-manylinux_2_17_x86_64.manylinux2014_x86_64.whl (162 kB)\n",
            "\u001b[2K   \u001b[90m━━━━━━━━━━━━━━━━━━━━━━━━━━━━━━━━━━━━━━━━\u001b[0m \u001b[32m162.6/162.6 kB\u001b[0m \u001b[31m3.5 MB/s\u001b[0m eta \u001b[36m0:00:00\u001b[0m\n",
            "\u001b[?25hDownloading rapidfuzz-3.10.1-cp310-cp310-manylinux_2_17_x86_64.manylinux2014_x86_64.whl (3.1 MB)\n",
            "\u001b[2K   \u001b[90m━━━━━━━━━━━━━━━━━━━━━━━━━━━━━━━━━━━━━━━━\u001b[0m \u001b[32m3.1/3.1 MB\u001b[0m \u001b[31m35.1 MB/s\u001b[0m eta \u001b[36m0:00:00\u001b[0m\n",
            "\u001b[?25hInstalling collected packages: rapidfuzz, Levenshtein, python-Levenshtein\n",
            "Successfully installed Levenshtein-0.26.1 python-Levenshtein-0.26.1 rapidfuzz-3.10.1\n",
            "Word Error Rate (WER): 0.0\n"
          ]
        }
      ]
    },
    {
      "cell_type": "code",
      "source": [
        "## 🐹 🐾  <font color = 'red'>**SST (Speech-to-Text)**\n",
        "\n",
        "## - 학생이 발화한 12개의 문장이 text로 변환됩니다."
      ],
      "metadata": {
        "id": "0ZTfIMHZRQgg"
      },
      "execution_count": null,
      "outputs": []
    },
    {
      "cell_type": "code",
      "execution_count": null,
      "metadata": {
        "colab": {
          "base_uri": "https://localhost:8080/"
        },
        "id": "tCu_W_eg-n4N",
        "outputId": "f6e1cd71-21ce-423a-d5b2-65ef87098f6e"
      },
      "outputs": [
        {
          "output_type": "stream",
          "name": "stdout",
          "text": [
            "Collecting SpeechRecognition\n",
            "  Downloading SpeechRecognition-3.12.0-py3-none-any.whl.metadata (30 kB)\n",
            "Requirement already satisfied: typing-extensions in /usr/local/lib/python3.10/dist-packages (from SpeechRecognition) (4.12.2)\n",
            "Downloading SpeechRecognition-3.12.0-py3-none-any.whl (32.8 MB)\n",
            "\u001b[2K   \u001b[90m━━━━━━━━━━━━━━━━━━━━━━━━━━━━━━━━━━━━━━━━\u001b[0m \u001b[32m32.8/32.8 MB\u001b[0m \u001b[31m48.8 MB/s\u001b[0m eta \u001b[36m0:00:00\u001b[0m\n",
            "\u001b[?25hInstalling collected packages: SpeechRecognition\n",
            "Successfully installed SpeechRecognition-3.12.0\n",
            "File: comma_s5.wav\n",
            "Text: she ate a bowl of preparation check to herself in the mirror and worship herself face in a hurry\n",
            "Word Count: 19\n",
            "\n",
            "File: comma_s12.wav\n",
            "Text: was an old choice for a\n",
            "Word Count: 6\n",
            "\n",
            "File: comma_s1.wav\n",
            "Text: well here's a story for you\n",
            "Word Count: 6\n",
            "\n",
            "File: comma_s6.wav\n",
            "Text: then she would she put on plain yellow dress and a fleece jacket pick it up her kid and had it for work\n",
            "Word Count: 23\n",
            "\n",
            "File: comma_s11.wav\n",
            "Text: the Furlong that itchy Goose begin to struct around the office like a reality which Maiden on sanitary Mass\n",
            "Word Count: 19\n",
            "\n",
            "File: comma_s7.wav\n",
            "Text: when she got there there was a woman with a goose waiting for her\n",
            "Word Count: 14\n",
            "\n",
            "File: comma_s10.wav\n",
            "Text: Sarah West sentimental so this made her feel sorry for the beautiful bird\n",
            "Word Count: 13\n",
            "\n",
            "File: comma_s2.wav\n",
            "Text: Sarah Perry was a Veterinary nurse who had been working Deli at an old Jew in desert District of the territory so she was very happy to start a new job as a superb private practice and nurse care near the Duke Street Tower\n",
            "Word Count: 44\n",
            "\n",
            "File: comma_s3.wav\n",
            "Text: did Ariel is much nearer for her and more to her liking\n",
            "Word Count: 12\n",
            "\n",
            "File: comma_s8.wav\n",
            "Text: do women get gave Sarah an official letter from the vat\n",
            "Word Count: 11\n",
            "\n",
            "File: comma_s4.wav\n",
            "Text: she felt stressed\n",
            "Word Count: 3\n",
            "\n",
            "File: comma_s9.wav\n",
            "Text: could be suffering from from a rare from of food and mouth diseases these days which was surprising because normally you would only expect to see it in a dog or a goat\n",
            "Word Count: 33\n",
            "\n"
          ]
        }
      ],
      "source": [
        "!pip install SpeechRecognition\n",
        "\n",
        "import os\n",
        "import speech_recognition as sr\n",
        "\n",
        "def convert_speech_to_text(audio_file):\n",
        "    recognizer = sr.Recognizer()\n",
        "\n",
        "    with sr.AudioFile(audio_file) as source:\n",
        "        audio = recognizer.record(source)  # Load the audio file\n",
        "\n",
        "    text = recognizer.recognize_google(audio)  # Use Google Speech Recognition API\n",
        "\n",
        "    return text\n",
        "\n",
        "def count_words(text):\n",
        "    words = text.split()  # Split the text into words\n",
        "    return len(words)    # Return the count of words\n",
        "\n",
        "# Path to the folder containing the WAV files\n",
        "folder_path = \"/content/sent12\"\n",
        "\n",
        "# Iterate over the files in the folder\n",
        "for filename in os.listdir(folder_path):\n",
        "    if filename.endswith(\".wav\"):\n",
        "        audio_file = os.path.join(folder_path, filename)\n",
        "\n",
        "        converted_text = convert_speech_to_text(audio_file)  # Convert speech to text\n",
        "\n",
        "        word_count = count_words(converted_text)  # Count the words in the converted text\n",
        "\n",
        "        print(f\"File: {filename}\")\n",
        "        print(f\"Text: {converted_text}\")\n",
        "        print(f\"Word Count: {word_count}\\n\")\n"
      ]
    },
    {
      "cell_type": "code",
      "source": [
        "###<font color = 'green'> **🐹 👀 Compare each speaker's utterance with the reference text.**\n",
        "\n",
        "## - 위에 나온 각 문장 발화를 아래 문장 번호를 찾아서 'copy & paste' 하세요."
      ],
      "metadata": {
        "id": "xXIrbC3ZRVhP"
      },
      "execution_count": null,
      "outputs": []
    },
    {
      "cell_type": "code",
      "source": [
        "!pip install python-Levenshtein\n",
        "import Levenshtein\n",
        "\n",
        "def calculate_wer(reference, hypothesis):\n",
        "    reference_words = reference.split()\n",
        "    hypothesis_words = hypothesis.split()\n",
        "\n",
        "    # Compute Levenshtein distance between the reference and hypothesis\n",
        "    distance = Levenshtein.distance(reference_words, hypothesis_words)\n",
        "\n",
        "    # Calculate Word Error Rate (WER)\n",
        "    wer = distance / len(reference_words)\n",
        "    return wer\n",
        "\n",
        "#Compare hypothesis with reference\n",
        "reference_text1 = \"well here's a story for you\"\n",
        "hypothesis_text1 = \"well here's a story for you\"\n",
        "wer1 = calculate_wer(reference_text1, hypothesis_text1)\n",
        "print(f\"Word Error Rate (WER): {wer1}\")\n",
        "\n",
        "reference_text2 = \"sarah perry was a veterinary nurse who had been working daily at an old zoo in a deserted district of the territory so she was very happy to start a new job at a superb private practice in north square near the duke street tower\"\n",
        "hypothesis_text2 = \"Sarah Perry was a Veterinary nurse who had been working Deli at an old Jew in desert District of the territory so she was very happy to start a new job as a superb private practice and nurse care near the\"\n",
        "wer2 = calculate_wer(reference_text2, hypothesis_text2)\n",
        "print(f\"Word Error Rate (WER): {wer2}\")\n",
        "\n",
        "reference_text3 = \"that area was much nearer for her and more to her liking\"\n",
        "hypothesis_text3 = \"did Ariel is much nearer for her and more to her liking\"\n",
        "wer3 = calculate_wer(reference_text3, hypothesis_text3)\n",
        "print(f\"Word Error Rate (WER): {wer3}\")\n",
        "\n",
        "reference_text4 = \"even so on her first morning she felt stressed\"\n",
        "hypothesis_text4 = \"she felt stressed\"\n",
        "wer4 = calculate_wer(reference_text4, hypothesis_text4)\n",
        "print(f\"Word Error Rate (WER): {wer4}\")\n",
        "\n",
        "reference_text5 = \"she ate a bowl of porridge checked herself in the mirror and washed her face in a hurry\"\n",
        "hypothesis_text5 = \"she ate a bowl of preparation check to herself in the mirror and worship herself face in a hurry\"\n",
        "wer5 = calculate_wer(reference_text5, hypothesis_text5)\n",
        "print(f\"Word Error Rate (WER): {wer5}\")\n",
        "\n",
        "reference_text6 = \"then she put on a plain yellow dress and a fleece jacket picked up her kit and headed for work\"\n",
        "hypothesis_text6 = \"then she would she put on plain yellow dress and a fleece jacket pick it up her kid and had it for work\"\n",
        "wer6 = calculate_wer(reference_text6, hypothesis_text6)\n",
        "print(f\"Word Error Rate (WER): {wer6}\")\n",
        "\n",
        "reference_text7 = \"when she got there there was a woman with a goose waiting for her\"\n",
        "hypothesis_text7 = \"when she got there there was a woman with a goose waiting for her\"\n",
        "wer7 = calculate_wer(reference_text7, hypothesis_text7)\n",
        "print(f\"Word Error Rate (WER): {wer7}\")\n",
        "\n",
        "reference_text8 = \"the woman gave Sarah an official letter from the vet\"\n",
        "hypothesis_text8 = \"do women get gave Sarah an official letter from the vat\"\n",
        "wer8 = calculate_wer(reference_text8, hypothesis_text8)\n",
        "print(f\"Word Error Rate (WER): {wer8}\")\n",
        "\n",
        "reference_text9 = \"the letter implied that the animal could be suffering from a rare form of foot and mouth disease which was surprising because normally you would only expect to see it in a dog or a goat\"\n",
        "hypothesis_text9 = \"could be suffering from from a rare from of food and mouth diseases these days which was surprising because normally you would only expect to see it in a dog or a goat\"\n",
        "wer9 = calculate_wer(reference_text9, hypothesis_text9)\n",
        "print(f\"Word Error Rate (WER): {wer9}\")\n",
        "\n",
        "reference_text10 = \"sarah was sentimental so this made her feel sorry for the beautiful bird\"\n",
        "hypothesis_text10 = \"Sarah West sentimental so this made her feel sorry for the beautiful bird\"\n",
        "wer10 = calculate_wer(reference_text10, hypothesis_text10)\n",
        "print(f\"Word Error Rate (WER): {wer10}\")\n",
        "\n",
        "reference_text11 = \"before long that itchy goose began to strut around the office like a lunatic which made an unsanitary mess\"\n",
        "hypothesis_text11 = \"he Furlong that itchy Goose begin to struct around the office like a reality which Maiden on sanitary Mass\"\n",
        "wer11 = calculate_wer(reference_text11, hypothesis_text11)\n",
        "print(f\"Word Error Rate (WER): {wer11}\")\n",
        "\n",
        "reference_text12 = \"the goose's owner mary harrison kept calling comma comma which Sarah thought was an odd choice for a name\"\n",
        "hypothesis_text12 = \"was an old choice for a\"\n",
        "wer12 = calculate_wer(reference_text12, hypothesis_text12)\n",
        "print(f\"Word Error Rate (WER): {wer12}\")"
      ],
      "metadata": {
        "id": "dQt3o3-V0YRc",
        "outputId": "1121b1f7-e778-41b5-9435-222eb53a2a18",
        "colab": {
          "base_uri": "https://localhost:8080/"
        }
      },
      "execution_count": null,
      "outputs": [
        {
          "output_type": "stream",
          "name": "stdout",
          "text": [
            "Requirement already satisfied: python-Levenshtein in /usr/local/lib/python3.10/dist-packages (0.26.1)\n",
            "Requirement already satisfied: Levenshtein==0.26.1 in /usr/local/lib/python3.10/dist-packages (from python-Levenshtein) (0.26.1)\n",
            "Requirement already satisfied: rapidfuzz<4.0.0,>=3.9.0 in /usr/local/lib/python3.10/dist-packages (from Levenshtein==0.26.1->python-Levenshtein) (3.10.1)\n",
            "Word Error Rate (WER): 0.0\n",
            "Word Error Rate (WER): 0.3333333333333333\n",
            "Word Error Rate (WER): 0.25\n",
            "Word Error Rate (WER): 0.6666666666666666\n",
            "Word Error Rate (WER): 0.2777777777777778\n",
            "Word Error Rate (WER): 0.4\n",
            "Word Error Rate (WER): 0.0\n",
            "Word Error Rate (WER): 0.4\n",
            "Word Error Rate (WER): 0.3333333333333333\n",
            "Word Error Rate (WER): 0.15384615384615385\n",
            "Word Error Rate (WER): 0.5263157894736842\n",
            "Word Error Rate (WER): 0.7368421052631579\n"
          ]
        }
      ]
    }
  ]
}